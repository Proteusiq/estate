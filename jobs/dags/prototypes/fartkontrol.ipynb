{
 "cells": [
  {
   "cell_type": "code",
   "execution_count": 44,
   "metadata": {},
   "outputs": [],
   "source": [
    "from datetime import datetime\n",
    "import httpx\n",
    "import pandas as pd"
   ]
  },
  {
   "cell_type": "code",
   "execution_count": 5,
   "metadata": {},
   "outputs": [],
   "source": [
    "URL = \"https://www.fartkontrol.nu/ajax.php\""
   ]
  },
  {
   "cell_type": "code",
   "execution_count": 54,
   "metadata": {},
   "outputs": [],
   "source": [
    "latitude = 55.6373945\n",
    "longitude = 12.4711422\n",
    "\n",
    "latitude = 0\n",
    "longitude = 0\n",
    "\n",
    "PARAMS = {\"json\" :f\"\"\"{{\"action\":\"controls_fetch\",\"uid\":null,\"app\":0,\"my_coords\":{{\"Ya\":{latitude},\"Za\":{longitude},\"ac\":0}},\n",
    " \"types\":[\"1\",\"-1\",\"-1\",null,\"1\"]}}\"\"\"}"
   ]
  },
  {
   "cell_type": "code",
   "execution_count": 55,
   "metadata": {},
   "outputs": [
    {
     "data": {
      "text/plain": [
       "{'json': '{\"action\":\"controls_fetch\",\"uid\":null,\"app\":0,\"my_coords\":{\"Ya\":0,\"Za\":0,\"ac\":0},\\n \"types\":[\"1\",\"-1\",\"-1\",null,\"1\"]}'}"
      ]
     },
     "execution_count": 55,
     "metadata": {},
     "output_type": "execute_result"
    }
   ],
   "source": [
    "PARAMS"
   ]
  },
  {
   "cell_type": "code",
   "execution_count": 56,
   "metadata": {},
   "outputs": [],
   "source": [
    "r = httpx.get(URL, params=PARAMS)"
   ]
  },
  {
   "cell_type": "code",
   "execution_count": 57,
   "metadata": {},
   "outputs": [],
   "source": [
    "data = r.json()"
   ]
  },
  {
   "cell_type": "code",
   "execution_count": 58,
   "metadata": {},
   "outputs": [
    {
     "data": {
      "text/plain": [
       "dict_keys(['result', 'users_id', 'uid', 'e', 'extras', 'controls', 'is_night', 'menu', 'gps_history_interval'])"
      ]
     },
     "execution_count": 58,
     "metadata": {},
     "output_type": "execute_result"
    }
   ],
   "source": [
    "data.keys()"
   ]
  },
  {
   "cell_type": "code",
   "execution_count": 59,
   "metadata": {},
   "outputs": [
    {
     "data": {
      "text/plain": [
       "dict_keys(['coordinates', 'time'])"
      ]
     },
     "execution_count": 59,
     "metadata": {},
     "output_type": "execute_result"
    }
   ],
   "source": [
    "data['controls'].keys()"
   ]
  },
  {
   "cell_type": "code",
   "execution_count": 60,
   "metadata": {},
   "outputs": [
    {
     "data": {
      "text/plain": [
       "1621186318"
      ]
     },
     "execution_count": 60,
     "metadata": {},
     "output_type": "execute_result"
    }
   ],
   "source": [
    "data['controls'].get('time')"
   ]
  },
  {
   "cell_type": "code",
   "execution_count": 61,
   "metadata": {},
   "outputs": [],
   "source": [
    "controls = pd.DataFrame(data['controls'].get('coordinates')).T"
   ]
  },
  {
   "cell_type": "code",
   "execution_count": 62,
   "metadata": {},
   "outputs": [
    {
     "data": {
      "text/plain": [
       "(53, 19)"
      ]
     },
     "execution_count": 62,
     "metadata": {},
     "output_type": "execute_result"
    }
   ],
   "source": [
    "controls.shape"
   ]
  },
  {
   "cell_type": "code",
   "execution_count": 63,
   "metadata": {},
   "outputs": [
    {
     "data": {
      "text/html": [
       "<div>\n",
       "<style scoped>\n",
       "    .dataframe tbody tr th:only-of-type {\n",
       "        vertical-align: middle;\n",
       "    }\n",
       "\n",
       "    .dataframe tbody tr th {\n",
       "        vertical-align: top;\n",
       "    }\n",
       "\n",
       "    .dataframe thead th {\n",
       "        text-align: right;\n",
       "    }\n",
       "</style>\n",
       "<table border=\"1\" class=\"dataframe\">\n",
       "  <thead>\n",
       "    <tr style=\"text-align: right;\">\n",
       "      <th></th>\n",
       "      <th>id</th>\n",
       "      <th>time</th>\n",
       "      <th>type</th>\n",
       "      <th>users_id</th>\n",
       "      <th>x</th>\n",
       "      <th>y</th>\n",
       "      <th>near</th>\n",
       "      <th>voted_out</th>\n",
       "      <th>thanks</th>\n",
       "      <th>not_spottet</th>\n",
       "      <th>level</th>\n",
       "      <th>direction_status</th>\n",
       "      <th>direction_angle</th>\n",
       "      <th>comments_users_id</th>\n",
       "      <th>name</th>\n",
       "      <th>comment</th>\n",
       "      <th>count_thanks</th>\n",
       "      <th>count_not_spottet</th>\n",
       "      <th>comments</th>\n",
       "    </tr>\n",
       "  </thead>\n",
       "  <tbody>\n",
       "    <tr>\n",
       "      <th>5285022</th>\n",
       "      <td>5285022</td>\n",
       "      <td>1621181476</td>\n",
       "      <td>1</td>\n",
       "      <td>0</td>\n",
       "      <td>572843399</td>\n",
       "      <td>97886524</td>\n",
       "      <td>Bredningen, Brønderslev</td>\n",
       "      <td>0</td>\n",
       "      <td>7</td>\n",
       "      <td>0</td>\n",
       "      <td>2</td>\n",
       "      <td>0</td>\n",
       "      <td>0</td>\n",
       "      <td>16132900</td>\n",
       "      <td></td>\n",
       "      <td></td>\n",
       "      <td>7</td>\n",
       "      <td>0</td>\n",
       "      <td>1</td>\n",
       "    </tr>\n",
       "    <tr>\n",
       "      <th>1283238</th>\n",
       "      <td>1283238</td>\n",
       "      <td>1621186261</td>\n",
       "      <td>1</td>\n",
       "      <td>0</td>\n",
       "      <td>574244360</td>\n",
       "      <td>100415910</td>\n",
       "      <td>Øster Linderupvej, Brønderslev</td>\n",
       "      <td>0</td>\n",
       "      <td>10</td>\n",
       "      <td>0</td>\n",
       "      <td>2</td>\n",
       "      <td>0</td>\n",
       "      <td>0</td>\n",
       "      <td>13262691</td>\n",
       "      <td></td>\n",
       "      <td></td>\n",
       "      <td>10</td>\n",
       "      <td>0</td>\n",
       "      <td>1</td>\n",
       "    </tr>\n",
       "  </tbody>\n",
       "</table>\n",
       "</div>"
      ],
      "text/plain": [
       "              id        time type users_id          x          y  \\\n",
       "5285022  5285022  1621181476    1        0  572843399   97886524   \n",
       "1283238  1283238  1621186261    1        0  574244360  100415910   \n",
       "\n",
       "                                   near voted_out thanks not_spottet level  \\\n",
       "5285022         Bredningen, Brønderslev         0      7           0     2   \n",
       "1283238  Øster Linderupvej, Brønderslev         0     10           0     2   \n",
       "\n",
       "        direction_status direction_angle comments_users_id name comment  \\\n",
       "5285022                0               0          16132900                \n",
       "1283238                0               0          13262691                \n",
       "\n",
       "        count_thanks count_not_spottet comments  \n",
       "5285022            7                 0        1  \n",
       "1283238           10                 0        1  "
      ]
     },
     "execution_count": 63,
     "metadata": {},
     "output_type": "execute_result"
    }
   ],
   "source": [
    "controls.loc[lambda d: d['near'].str.contains('Brø')]"
   ]
  },
  {
   "cell_type": "code",
   "execution_count": null,
   "metadata": {},
   "outputs": [],
   "source": []
  }
 ],
 "metadata": {
  "kernelspec": {
   "display_name": "AirFlow",
   "language": "python",
   "name": "airflow"
  },
  "language_info": {
   "codemirror_mode": {
    "name": "ipython",
    "version": 3
   },
   "file_extension": ".py",
   "mimetype": "text/x-python",
   "name": "python",
   "nbconvert_exporter": "python",
   "pygments_lexer": "ipython3",
   "version": "3.8.5"
  }
 },
 "nbformat": 4,
 "nbformat_minor": 4
}
